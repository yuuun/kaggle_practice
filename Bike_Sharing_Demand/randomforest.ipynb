{
 "cells": [
  {
   "cell_type": "code",
   "execution_count": 1,
   "id": "be00a126-b103-4fef-bdc4-bcbfd76b68a1",
   "metadata": {},
   "outputs": [],
   "source": [
    "import pandas as pd\n",
    "import numpy as np\n",
    "import matplotlib.pyplot as plt\n",
    "import seaborn as sns\n",
    "import datetime as dt\n",
    "import scipy\n",
    "import warnings\n",
    "warnings.filterwarnings('ignore')"
   ]
  },
  {
   "cell_type": "code",
   "execution_count": 2,
   "id": "0097e07b-0710-4787-8b3b-b055f2aa0259",
   "metadata": {},
   "outputs": [],
   "source": [
    "train = pd.read_csv('dataset/train.csv')\n",
    "test = pd.read_csv('dataset/test.csv')\n",
    "submission = pd.read_csv('dataset/sampleSubmission.csv')"
   ]
  },
  {
   "cell_type": "code",
   "execution_count": 3,
   "id": "05d5da71-c27f-4397-9470-5f8edb95629d",
   "metadata": {},
   "outputs": [],
   "source": [
    "train['datetime'] = pd.to_datetime(train['datetime'])\n",
    "test['datetime'] = pd.to_datetime(test['datetime'])"
   ]
  },
  {
   "cell_type": "code",
   "execution_count": 4,
   "id": "9938c120-de32-405d-868b-ac0b380c0346",
   "metadata": {},
   "outputs": [],
   "source": [
    "# datatime 쪼개기\n",
    "train['year'] = train['datetime'].dt.year\n",
    "train['month'] = train['datetime'].dt.month\n",
    "train['day'] = train['datetime'].dt.day\n",
    "train['hour'] = train['datetime'].dt.hour\n",
    "train['minute'] = train['datetime'].dt.minute\n",
    "train['second'] = train['datetime'].dt.second\n",
    "# dayofweek 는 요일을 가져오는 말\n",
    "#월(0) 화(1) 수(2) 목(3) 금(4) 토(5) 일(6)\n",
    "train['dayofweek'] = train['datetime'].dt.dayofweek\n",
    "\n",
    "test['year'] = test['datetime'].dt.year\n",
    "test['month'] = test['datetime'].dt.month\n",
    "test['day'] = test['datetime'].dt.day\n",
    "test['hour'] = test['datetime'].dt.hour\n",
    "test['minute'] = test['datetime'].dt.minute\n",
    "test['second'] = test['datetime'].dt.second\n",
    "# dayofweek 는 요일을 가져오는 말\n",
    "#월(0) 화(1) 수(2) 목(3) 금(4) 토(5) 일(6)\n",
    "test['dayofweek'] = test['datetime'].dt.dayofweek"
   ]
  },
  {
   "cell_type": "code",
   "execution_count": 5,
   "id": "de638280-84ac-44a6-b4cf-7d043afc6d22",
   "metadata": {},
   "outputs": [],
   "source": [
    "from collections import Counter\n",
    "\n",
    "def detect_outliers(data, n, cols):\n",
    "    outlier_indices = []\n",
    "    for col in cols:\n",
    "        Q1 = np.percentile(data[col], 25)\n",
    "        Q3 = np.percentile(data[col], 75)\n",
    "        IQR = Q3 - Q1\n",
    "        \n",
    "        outlier_step = 1.5 * IQR\n",
    "        \n",
    "        outlier_list_col = data[(data[col] < Q1 - outlier_step) | (data[col] > Q3 + outlier_step)].index\n",
    "        outlier_indices.extend(outlier_list_col)\n",
    "    outlier_indices = Counter(outlier_indices)\n",
    "    multiple_outliers = list(k for k, v in outlier_indices.items() if v > n)\n",
    "    \n",
    "    return multiple_outliers"
   ]
  },
  {
   "cell_type": "code",
   "execution_count": 6,
   "id": "8ab990cc-790f-48c2-bc40-aa050cff6569",
   "metadata": {},
   "outputs": [],
   "source": [
    "outliers_to_drop = detect_outliers(train, 2, [\"temp\", \"atemp\", \"casual\", \"registered\", \"humidity\", \"windspeed\", \"count\"])"
   ]
  },
  {
   "cell_type": "code",
   "execution_count": 8,
   "id": "0147580b-c60e-44a9-a6d9-07a3f552e41a",
   "metadata": {},
   "outputs": [],
   "source": [
    "# Randomforest로 대체\n",
    "from sklearn.ensemble import RandomForestClassifier\n",
    "\n",
    "def predict_windspeed(data):\n",
    "    wind0 = data.loc[data['windspeed'] == 0]\n",
    "    windnot0 = data.loc[data['windspeed'] != 0]\n",
    "    \n",
    "    #풍속이 날씨변수이기 때문에 날씨변수를 활용해서 windspeed를 예측해줄 것\n",
    "    col = ['season', 'weather', 'temp', 'humidity', 'atemp', 'day']\n",
    "    windnot0['windspeed'] = windnot0['windspeed'].astype('str')\n",
    "    \n",
    "    rf = RandomForestClassifier()\n",
    "    #windspeed가 0이 아닌 컬럼으로 fit 해줌\n",
    "    #model.fit(X_train, y_train)\n",
    "    rf.fit(windnot0[col], windnot0['windspeed'])\n",
    " \n",
    "    #windspeed가 0인 부분을 예측\n",
    "    #model.predict(X_test)\n",
    "    pred_wind0 = rf.predict(X = wind0[col])\n",
    "    \n",
    "    #wind0의 windspeed 값을 pred_wind0으로 바꿔주고\n",
    "    wind0['windspeed'] = pred_wind0\n",
    "    \n",
    "    #windnot0과 wind0을 합쳐준다\n",
    "    data = windnot0.append(wind0)\n",
    "    data['windspeed'] = data['windspeed'].astype('float')\n",
    "    \n",
    "    data.reset_index(inplace = True)\n",
    "    data.drop(\"index\", inplace = True, axis = 1)\n",
    "   \n",
    "    return data"
   ]
  },
  {
   "cell_type": "code",
   "execution_count": 9,
   "id": "f2472bb4-1819-4fd5-8505-800ec5a7f9b1",
   "metadata": {},
   "outputs": [],
   "source": [
    "train = predict_windspeed(train)\n",
    "test = predict_windspeed(test)"
   ]
  },
  {
   "cell_type": "code",
   "execution_count": 10,
   "id": "2ebbb762-57ab-4e41-8377-d7043b4c0d73",
   "metadata": {},
   "outputs": [],
   "source": [
    "train = pd.get_dummies(train, columns = ['weather'], prefix = 'weather')\n",
    "test = pd.get_dummies(test, columns = ['weather'], prefix = 'weather')\n",
    "\n",
    "train = pd.get_dummies(train, columns = ['season'], prefix = 'season')\n",
    "test = pd.get_dummies(test, columns = ['season'], prefix = 'season')\n",
    "\n",
    "train = pd.get_dummies(train, columns = ['holiday'], prefix = 'holiday')\n",
    "test = pd.get_dummies(test, columns = ['holiday'], prefix = 'holiday')"
   ]
  },
  {
   "cell_type": "code",
   "execution_count": 11,
   "id": "e4283f62-51f6-4358-bdde-e6645158ad25",
   "metadata": {},
   "outputs": [],
   "source": [
    "test_datetime = test['datetime']\n",
    "train.drop(['datetime', 'workingday', 'minute', 'second', 'atemp', 'casual', 'registered'], axis=1, inplace=True)\n",
    "test.drop(['datetime', 'workingday', 'minute', 'second', 'atemp'], axis=1, inplace=True)"
   ]
  },
  {
   "cell_type": "code",
   "execution_count": 12,
   "id": "69333adf-db1d-4e70-9e6b-4d768d09b1c8",
   "metadata": {},
   "outputs": [],
   "source": [
    "from sklearn.model_selection import train_test_split\n",
    "from sklearn import metrics"
   ]
  },
  {
   "cell_type": "code",
   "execution_count": 18,
   "id": "fdc45bee-3791-4496-a1b9-eca15990083a",
   "metadata": {},
   "outputs": [],
   "source": [
    "x_train = train.drop('count', axis=1).values\n",
    "target_label = train['count'].values\n",
    "x_test = test.values\n",
    "x_train, x_val, y_train, y_val = train_test_split(x_train, target_label, test_size=0.2, random_state=2000)"
   ]
  },
  {
   "cell_type": "code",
   "execution_count": 52,
   "id": "628cab35-03e8-4f45-a574-b2e1bcf4df2a",
   "metadata": {},
   "outputs": [],
   "source": [
    "from sklearn.ensemble import RandomForestClassifier, RandomForestRegressor"
   ]
  },
  {
   "cell_type": "code",
   "execution_count": 29,
   "id": "22ab0198-bfb5-4fa2-8763-b8bb202b67b8",
   "metadata": {},
   "outputs": [
    {
     "data": {
      "text/plain": [
       "RandomForestClassifier(max_depth=10, random_state=0)"
      ]
     },
     "execution_count": 29,
     "metadata": {},
     "output_type": "execute_result"
    }
   ],
   "source": [
    "clf = RandomForestClassifier(max_depth=10, random_state=0)\n",
    "clf.fit(x_train, y_train)"
   ]
  },
  {
   "cell_type": "code",
   "execution_count": 30,
   "id": "cfb3cc59-848f-4bb2-a385-e0d56b06ffa8",
   "metadata": {},
   "outputs": [
    {
     "data": {
      "text/plain": [
       "(0.7687184198438217, 0.01652892561983471)"
      ]
     },
     "execution_count": 30,
     "metadata": {},
     "output_type": "execute_result"
    }
   ],
   "source": [
    "clf.score(x_train, y_train), clf.score(x_val, y_val)"
   ]
  },
  {
   "cell_type": "code",
   "execution_count": 53,
   "id": "d6238cfb-7a69-49b2-b256-601ccc161230",
   "metadata": {},
   "outputs": [
    {
     "data": {
      "text/plain": [
       "(0.9522337442492639, 0.9522337442492639)"
      ]
     },
     "execution_count": 53,
     "metadata": {},
     "output_type": "execute_result"
    }
   ],
   "source": [
    "reg = RandomForestRegressor(max_depth=10, random_state=0)\n",
    "reg.fit(x_train, y_train)\n",
    "reg.score(x_train, y_train), reg.score(x_train, y_train)"
   ]
  },
  {
   "cell_type": "code",
   "execution_count": 31,
   "id": "0025bc05-aa13-4ece-9ffa-8a9c76e9d28a",
   "metadata": {},
   "outputs": [],
   "source": [
    "from sklearn.ensemble import GradientBoostingRegressor"
   ]
  },
  {
   "cell_type": "code",
   "execution_count": 32,
   "id": "3d5b0447-b2d2-4a54-9e29-a4536eb63ce6",
   "metadata": {},
   "outputs": [
    {
     "data": {
      "text/plain": [
       "GradientBoostingRegressor(learning_rate=0.05, max_depth=5, min_samples_leaf=15,\n",
       "                          min_samples_split=10, n_estimators=2000,\n",
       "                          random_state=42)"
      ]
     },
     "execution_count": 32,
     "metadata": {},
     "output_type": "execute_result"
    }
   ],
   "source": [
    "regressor = GradientBoostingRegressor(n_estimators = 2000\n",
    "\t\t\t\t\t, learning_rate = 0.05\n",
    "                                    , max_depth = 5\n",
    "                                    , min_samples_leaf = 15\n",
    "                                    , min_samples_split = 10\n",
    "                                    , random_state = 42)\n",
    "regressor.fit(x_train, y_train)"
   ]
  },
  {
   "cell_type": "code",
   "execution_count": 33,
   "id": "08362b4e-b0ed-49dc-81c8-160dbdc43689",
   "metadata": {},
   "outputs": [
    {
     "data": {
      "text/plain": [
       "(0.9860940926033575, 0.9605989819774398)"
      ]
     },
     "execution_count": 33,
     "metadata": {},
     "output_type": "execute_result"
    }
   ],
   "source": [
    "regressor.score(x_train, y_train), regressor.score(x_val, y_val)"
   ]
  },
  {
   "cell_type": "code",
   "execution_count": 34,
   "id": "b9bdc7f4-4cfe-4cf7-939f-57b1294a65b9",
   "metadata": {},
   "outputs": [],
   "source": [
    "from sklearn.metrics import classification_report"
   ]
  },
  {
   "cell_type": "code",
   "execution_count": 39,
   "id": "ccb1580b-609c-4d2a-9152-0f0505000747",
   "metadata": {},
   "outputs": [
    {
     "ename": "ValueError",
     "evalue": "Classification metrics can't handle a mix of multiclass and continuous targets",
     "output_type": "error",
     "traceback": [
      "\u001b[0;31m---------------------------------------------------------------------------\u001b[0m",
      "\u001b[0;31mValueError\u001b[0m                                Traceback (most recent call last)",
      "\u001b[0;32m/var/folders/m0/4mjn_n191hv3068_g64htht00000gn/T/ipykernel_16824/1168161692.py\u001b[0m in \u001b[0;36m<module>\u001b[0;34m\u001b[0m\n\u001b[1;32m      1\u001b[0m \u001b[0;31m# classification_report는 사용 불가한듯\u001b[0m\u001b[0;34m\u001b[0m\u001b[0;34m\u001b[0m\u001b[0;34m\u001b[0m\u001b[0m\n\u001b[0;32m----> 2\u001b[0;31m \u001b[0mclassification_report\u001b[0m\u001b[0;34m(\u001b[0m\u001b[0my_val\u001b[0m\u001b[0;34m,\u001b[0m \u001b[0mregressor\u001b[0m\u001b[0;34m.\u001b[0m\u001b[0mpredict\u001b[0m\u001b[0;34m(\u001b[0m\u001b[0mx_val\u001b[0m\u001b[0;34m)\u001b[0m\u001b[0;34m)\u001b[0m\u001b[0;34m\u001b[0m\u001b[0;34m\u001b[0m\u001b[0m\n\u001b[0m",
      "\u001b[0;32m~/Library/Python/3.8/lib/python/site-packages/sklearn/metrics/_classification.py\u001b[0m in \u001b[0;36mclassification_report\u001b[0;34m(y_true, y_pred, labels, target_names, sample_weight, digits, output_dict, zero_division)\u001b[0m\n\u001b[1;32m   2108\u001b[0m     \"\"\"\n\u001b[1;32m   2109\u001b[0m \u001b[0;34m\u001b[0m\u001b[0m\n\u001b[0;32m-> 2110\u001b[0;31m     \u001b[0my_type\u001b[0m\u001b[0;34m,\u001b[0m \u001b[0my_true\u001b[0m\u001b[0;34m,\u001b[0m \u001b[0my_pred\u001b[0m \u001b[0;34m=\u001b[0m \u001b[0m_check_targets\u001b[0m\u001b[0;34m(\u001b[0m\u001b[0my_true\u001b[0m\u001b[0;34m,\u001b[0m \u001b[0my_pred\u001b[0m\u001b[0;34m)\u001b[0m\u001b[0;34m\u001b[0m\u001b[0;34m\u001b[0m\u001b[0m\n\u001b[0m\u001b[1;32m   2111\u001b[0m \u001b[0;34m\u001b[0m\u001b[0m\n\u001b[1;32m   2112\u001b[0m     \u001b[0;32mif\u001b[0m \u001b[0mlabels\u001b[0m \u001b[0;32mis\u001b[0m \u001b[0;32mNone\u001b[0m\u001b[0;34m:\u001b[0m\u001b[0;34m\u001b[0m\u001b[0;34m\u001b[0m\u001b[0m\n",
      "\u001b[0;32m~/Library/Python/3.8/lib/python/site-packages/sklearn/metrics/_classification.py\u001b[0m in \u001b[0;36m_check_targets\u001b[0;34m(y_true, y_pred)\u001b[0m\n\u001b[1;32m     91\u001b[0m \u001b[0;34m\u001b[0m\u001b[0m\n\u001b[1;32m     92\u001b[0m     \u001b[0;32mif\u001b[0m \u001b[0mlen\u001b[0m\u001b[0;34m(\u001b[0m\u001b[0my_type\u001b[0m\u001b[0;34m)\u001b[0m \u001b[0;34m>\u001b[0m \u001b[0;36m1\u001b[0m\u001b[0;34m:\u001b[0m\u001b[0;34m\u001b[0m\u001b[0;34m\u001b[0m\u001b[0m\n\u001b[0;32m---> 93\u001b[0;31m         raise ValueError(\n\u001b[0m\u001b[1;32m     94\u001b[0m             \"Classification metrics can't handle a mix of {0} and {1} targets\".format(\n\u001b[1;32m     95\u001b[0m                 \u001b[0mtype_true\u001b[0m\u001b[0;34m,\u001b[0m \u001b[0mtype_pred\u001b[0m\u001b[0;34m\u001b[0m\u001b[0;34m\u001b[0m\u001b[0m\n",
      "\u001b[0;31mValueError\u001b[0m: Classification metrics can't handle a mix of multiclass and continuous targets"
     ]
    }
   ],
   "source": [
    "# classification_report는 사용 불가한듯\n",
    "classification_report(y_val, regressor.predict(x_val))"
   ]
  },
  {
   "cell_type": "code",
   "execution_count": 40,
   "id": "220a266d-9bd3-46fd-b74a-72cb0787f41b",
   "metadata": {},
   "outputs": [
    {
     "data": {
      "text/plain": [
       "array([174.40942014, 361.48759285, 145.0008908 , ..., 310.3025176 ,\n",
       "        13.48644902, 103.54655007])"
      ]
     },
     "execution_count": 40,
     "metadata": {},
     "output_type": "execute_result"
    }
   ],
   "source": [
    "regressor.predict(x_val)"
   ]
  },
  {
   "cell_type": "code",
   "execution_count": 41,
   "id": "adab7fc3-88e5-4650-9378-9c475e915399",
   "metadata": {},
   "outputs": [
    {
     "data": {
      "text/plain": [
       "array([165, 361, 114, ..., 301,   5, 135])"
      ]
     },
     "execution_count": 41,
     "metadata": {},
     "output_type": "execute_result"
    }
   ],
   "source": [
    "y_val"
   ]
  },
  {
   "cell_type": "code",
   "execution_count": 49,
   "id": "cc53318e-dd9a-444a-8caf-b8083c3c1dae",
   "metadata": {},
   "outputs": [
    {
     "data": {
      "text/plain": [
       "['_SUPPORTED_LOSS',\n",
       " '__abstractmethods__',\n",
       " '__annotations__',\n",
       " '__class__',\n",
       " '__delattr__',\n",
       " '__dict__',\n",
       " '__dir__',\n",
       " '__doc__',\n",
       " '__eq__',\n",
       " '__format__',\n",
       " '__ge__',\n",
       " '__getattribute__',\n",
       " '__getitem__',\n",
       " '__getstate__',\n",
       " '__gt__',\n",
       " '__hash__',\n",
       " '__init__',\n",
       " '__init_subclass__',\n",
       " '__iter__',\n",
       " '__le__',\n",
       " '__len__',\n",
       " '__lt__',\n",
       " '__module__',\n",
       " '__ne__',\n",
       " '__new__',\n",
       " '__reduce__',\n",
       " '__reduce_ex__',\n",
       " '__repr__',\n",
       " '__setattr__',\n",
       " '__setstate__',\n",
       " '__sizeof__',\n",
       " '__str__',\n",
       " '__subclasshook__',\n",
       " '__weakref__',\n",
       " '_abc_impl',\n",
       " '_check_feature_names',\n",
       " '_check_initialized',\n",
       " '_check_n_features',\n",
       " '_check_params',\n",
       " '_clear_state',\n",
       " '_compute_partial_dependence_recursion',\n",
       " '_estimator_type',\n",
       " '_fit_stage',\n",
       " '_fit_stages',\n",
       " '_get_param_names',\n",
       " '_get_tags',\n",
       " '_init_state',\n",
       " '_is_initialized',\n",
       " '_make_estimator',\n",
       " '_more_tags',\n",
       " '_raw_predict',\n",
       " '_raw_predict_init',\n",
       " '_repr_html_',\n",
       " '_repr_html_inner',\n",
       " '_repr_mimebundle_',\n",
       " '_required_parameters',\n",
       " '_resize_state',\n",
       " '_staged_raw_predict',\n",
       " '_validate_data',\n",
       " '_validate_estimator',\n",
       " '_validate_y',\n",
       " '_warn_mae_for_criterion',\n",
       " 'apply',\n",
       " 'feature_importances_',\n",
       " 'fit',\n",
       " 'get_params',\n",
       " 'n_classes_',\n",
       " 'n_features_',\n",
       " 'predict',\n",
       " 'score',\n",
       " 'set_params',\n",
       " 'staged_predict']"
      ]
     },
     "execution_count": 49,
     "metadata": {},
     "output_type": "execute_result"
    }
   ],
   "source": [
    "dir(GradientBoostingRegressor)"
   ]
  },
  {
   "cell_type": "code",
   "execution_count": 51,
   "id": "47aa4337-675e-4b52-932b-5ffa47cf6af2",
   "metadata": {},
   "outputs": [
    {
     "data": {
      "text/plain": [
       "<Signature (*, loss='squared_error', learning_rate=0.1, n_estimators=100, subsample=1.0, criterion='friedman_mse', min_samples_split=2, min_samples_leaf=1, min_weight_fraction_leaf=0.0, max_depth=3, min_impurity_decrease=0.0, init=None, random_state=None, max_features=None, alpha=0.9, verbose=0, max_leaf_nodes=None, warm_start=False, validation_fraction=0.1, n_iter_no_change=None, tol=0.0001, ccp_alpha=0.0)>"
      ]
     },
     "execution_count": 51,
     "metadata": {},
     "output_type": "execute_result"
    }
   ],
   "source": [
    "import inspect\n",
    "inspect.signature(GradientBoostingRegressor)"
   ]
  },
  {
   "cell_type": "code",
   "execution_count": null,
   "id": "09bc16d2-4bc9-4dcf-a4b7-70b61261c2fd",
   "metadata": {},
   "outputs": [],
   "source": []
  },
  {
   "cell_type": "code",
   "execution_count": null,
   "id": "955520b7-8fc7-4bf0-b347-47bea4835bf7",
   "metadata": {},
   "outputs": [],
   "source": []
  }
 ],
 "metadata": {
  "kernelspec": {
   "display_name": "Python 3 (ipykernel)",
   "language": "python",
   "name": "python3"
  },
  "language_info": {
   "codemirror_mode": {
    "name": "ipython",
    "version": 3
   },
   "file_extension": ".py",
   "mimetype": "text/x-python",
   "name": "python",
   "nbconvert_exporter": "python",
   "pygments_lexer": "ipython3",
   "version": "3.8.9"
  }
 },
 "nbformat": 4,
 "nbformat_minor": 5
}
